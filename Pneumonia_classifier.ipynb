{
 "cells": [
  {
   "cell_type": "code",
   "execution_count": 27,
   "id": "adb07be4-0382-417b-9a39-cdfffed435b8",
   "metadata": {},
   "outputs": [],
   "source": [
    "# Keras-based Fine-tuning ResNet-50 for Pneumonia Detection\n",
    "import numpy as np\n",
    "import pandas as pd\n",
    "import matplotlib.pyplot as plt\n",
    "import seaborn as sns\n",
    "import os\n",
    "import tensorflow as tf\n",
    "from tensorflow.keras.preprocessing.image import ImageDataGenerator\n",
    "from tensorflow.keras.applications import ResNet50\n",
    "from tensorflow.keras.layers import Dense, GlobalAveragePooling2D\n",
    "from tensorflow.keras.models import Model\n",
    "from tensorflow.keras.optimizers import Adam\n",
    "\n"
   ]
  },
  {
   "cell_type": "code",
   "execution_count": 5,
   "id": "45f85480-225f-42ba-9d9e-0adc071874db",
   "metadata": {},
   "outputs": [],
   "source": [
    "\n",
    "#step1 load data\n",
    "data = np.load('pneumoniamnist.npz')\n",
    "\n",
    "data\n",
    "\n",
    "# Train data\n",
    "x_train = data['train_images']\n",
    "y_train = data['train_labels']\n",
    "\n",
    "# Validation data\n",
    "x_val = data['val_images']\n",
    "y_val = data['val_labels']\n",
    "\n",
    "# Test data\n",
    "x_test = data['test_images']\n",
    "y_test = data['test_labels']"
   ]
  },
  {
   "cell_type": "code",
   "execution_count": 6,
   "id": "ac3a7e44-6681-4d31-81c6-dfb47ee26d70",
   "metadata": {},
   "outputs": [
    {
     "name": "stdout",
     "output_type": "stream",
     "text": [
      "Train: (3882, 28, 28) (3882, 1)\n",
      "Val: (524, 28, 28) (524, 1)\n",
      "Test: (624, 28, 28) (624, 1)\n"
     ]
    }
   ],
   "source": [
    "# Check shapes\n",
    "print(\"Train:\", x_train.shape, y_train.shape)\n",
    "print(\"Val:\", x_val.shape, y_val.shape)\n",
    "print(\"Test:\", x_test.shape, y_test.shape)"
   ]
  },
  {
   "cell_type": "code",
   "execution_count": 7,
   "id": "abb3de8c-302b-49df-94cb-5547be0f58fd",
   "metadata": {},
   "outputs": [
    {
     "name": "stdout",
     "output_type": "stream",
     "text": [
      "Training data shape: (3882, 28, 28)\n",
      "Validation data shape: (524, 28, 28)\n",
      "Test data shape: (624, 28, 28)\n",
      "Unique classes in y_train: (array([0, 1], dtype=uint8), array([ 388, 3494], dtype=int64))\n"
     ]
    }
   ],
   "source": [
    "# check the shape and number of classes\n",
    "print(\"Training data shape:\", x_train.shape)\n",
    "print(\"Validation data shape:\", x_val.shape)\n",
    "print(\"Test data shape:\", x_test.shape)\n",
    "print(\"Unique classes in y_train:\", np.unique(y_train, return_counts=True))"
   ]
  },
  {
   "cell_type": "code",
   "execution_count": 8,
   "id": "ce704c8f-9de6-48fa-bf97-bc735a594d89",
   "metadata": {},
   "outputs": [],
   "source": [
    "# Step 3: Preprocess images for ResNet-50\n",
    "#ResNet-50 expects 3-channel RGB images of size 224×224:\n",
    "\n",
    "from tensorflow.keras.utils import to_categorical\n",
    "from tensorflow.image import resize\n"
   ]
  },
  {
   "cell_type": "code",
   "execution_count": 9,
   "id": "5a058ea5-ebbe-4a25-a13b-a5338a2f9757",
   "metadata": {},
   "outputs": [],
   "source": [
    "# Reshape and normalize (expand dims to add channel, convert grayscale to RGB)\n",
    "def preprocess(images):\n",
    "    images = np.expand_dims(images, axis=-1)  # (H, W) → (H, W, 1)\n",
    "    images = np.repeat(images, 3, axis=-1)     # (H, W, 1) → (H, W, 3)\n",
    "    images = tf.image.resize(images, [224, 224]) / 255.0  # Normalize to [0, 1]\n",
    "    return images\n",
    "\n",
    "x_train = preprocess(x_train)\n",
    "x_val = preprocess(x_val)\n",
    "x_test = preprocess(x_test)"
   ]
  },
  {
   "cell_type": "code",
   "execution_count": 10,
   "id": "6920d3d3-2d66-46be-b24a-354168d58d51",
   "metadata": {},
   "outputs": [],
   "source": [
    "# Convert labels to categorical (if needed for softmax)\n",
    "y_train_cat = to_categorical(y_train, num_classes=2)\n",
    "y_val_cat = to_categorical(y_val, num_classes=2)\n",
    "y_test_cat = to_categorical(y_test, num_classes=2)"
   ]
  },
  {
   "cell_type": "code",
   "execution_count": 11,
   "id": "8b33deba-71c7-4c20-a69f-f14898fcd542",
   "metadata": {},
   "outputs": [],
   "source": [
    "#Step 4: Build and Fine-tune ResNet-50 Model\n",
    "from tensorflow.keras.applications import ResNet50\n",
    "from tensorflow.keras.models import Model\n",
    "from tensorflow.keras.layers import Dense, GlobalAveragePooling2D, Dropout\n",
    "from tensorflow.keras.optimizers import Adam\n"
   ]
  },
  {
   "cell_type": "code",
   "execution_count": 12,
   "id": "a157cb7b-a158-485a-9522-6b16b76bbd34",
   "metadata": {},
   "outputs": [
    {
     "name": "stdout",
     "output_type": "stream",
     "text": [
      "Downloading data from https://storage.googleapis.com/tensorflow/keras-applications/resnet/resnet50_weights_tf_dim_ordering_tf_kernels_notop.h5\n",
      "\u001b[1m94765736/94765736\u001b[0m \u001b[32m━━━━━━━━━━━━━━━━━━━━\u001b[0m\u001b[37m\u001b[0m \u001b[1m11s\u001b[0m 0us/step\n"
     ]
    }
   ],
   "source": [
    "# Load base model (exclude top, use weights from ImageNet)\n",
    "base_model = ResNet50(weights='imagenet', include_top=False, input_shape=(224, 224, 3))"
   ]
  },
  {
   "cell_type": "code",
   "execution_count": 13,
   "id": "367aad39-1679-442b-b4ef-21f3952f2167",
   "metadata": {},
   "outputs": [],
   "source": [
    "# Freeze base model initially\n",
    "base_model.trainable = False"
   ]
  },
  {
   "cell_type": "code",
   "execution_count": 14,
   "id": "5256a671-92de-4235-b03e-531f18df4c4c",
   "metadata": {},
   "outputs": [],
   "source": [
    "# Add custom layers on top\n",
    "x = base_model.output\n",
    "x = GlobalAveragePooling2D()(x)\n",
    "x = Dropout(0.5)(x)\n",
    "x = Dense(128, activation='relu')(x)\n",
    "x = Dropout(0.3)(x)\n",
    "predictions = Dense(2, activation='softmax')(x)"
   ]
  },
  {
   "cell_type": "code",
   "execution_count": 15,
   "id": "bc95a9e7-b406-4fd1-a2bb-6cff2d75ee58",
   "metadata": {},
   "outputs": [],
   "source": [
    "# Final model\n",
    "model = Model(inputs=base_model.input, outputs=predictions)"
   ]
  },
  {
   "cell_type": "code",
   "execution_count": 16,
   "id": "c950f95e-9b65-4dbf-b825-a61118a111f2",
   "metadata": {},
   "outputs": [],
   "source": [
    "#Step 5: Compile the model\n",
    "model.compile(optimizer=Adam(learning_rate=0.0001),\n",
    "              loss='categorical_crossentropy',\n",
    "              metrics=['accuracy'])\n"
   ]
  },
  {
   "cell_type": "code",
   "execution_count": 18,
   "id": "b0bf4ff1-ec32-43a2-9883-93fdfcf4e449",
   "metadata": {},
   "outputs": [
    {
     "name": "stdout",
     "output_type": "stream",
     "text": [
      "Epoch 1/5\n",
      "\u001b[1m122/122\u001b[0m \u001b[32m━━━━━━━━━━━━━━━━━━━━\u001b[0m\u001b[37m\u001b[0m \u001b[1m197s\u001b[0m 2s/step - accuracy: 0.8209 - loss: 0.4857 - val_accuracy: 0.7424 - val_loss: 0.6917\n",
      "Epoch 2/5\n",
      "\u001b[1m122/122\u001b[0m \u001b[32m━━━━━━━━━━━━━━━━━━━━\u001b[0m\u001b[37m\u001b[0m \u001b[1m174s\u001b[0m 1s/step - accuracy: 0.8986 - loss: 0.3650 - val_accuracy: 0.7424 - val_loss: 0.6394\n",
      "Epoch 3/5\n",
      "\u001b[1m122/122\u001b[0m \u001b[32m━━━━━━━━━━━━━━━━━━━━\u001b[0m\u001b[37m\u001b[0m \u001b[1m153s\u001b[0m 1s/step - accuracy: 0.8964 - loss: 0.3637 - val_accuracy: 0.7424 - val_loss: 0.6511\n",
      "Epoch 4/5\n",
      "\u001b[1m122/122\u001b[0m \u001b[32m━━━━━━━━━━━━━━━━━━━━\u001b[0m\u001b[37m\u001b[0m \u001b[1m141s\u001b[0m 1s/step - accuracy: 0.8966 - loss: 0.3496 - val_accuracy: 0.7424 - val_loss: 0.6075\n",
      "Epoch 5/5\n",
      "\u001b[1m122/122\u001b[0m \u001b[32m━━━━━━━━━━━━━━━━━━━━\u001b[0m\u001b[37m\u001b[0m \u001b[1m127s\u001b[0m 1s/step - accuracy: 0.8994 - loss: 0.3539 - val_accuracy: 0.7424 - val_loss: 0.5925\n"
     ]
    }
   ],
   "source": [
    "#Step 6: Train the model\n",
    "#Include early stopping and model checkpoint to avoid overfitting.\n",
    "from tensorflow.keras.callbacks import EarlyStopping, ModelCheckpoint\n",
    "\n",
    "callbacks = [\n",
    "    EarlyStopping(patience=5, restore_best_weights=True),\n",
    "    ModelCheckpoint('resnet50_pneumonia.keras', save_best_only=True)\n",
    "]\n",
    "\n",
    "history = model.fit(\n",
    "    x_train, y_train_cat,\n",
    "    validation_data=(x_val, y_val_cat),\n",
    "    epochs=5,\n",
    "    batch_size=32,\n",
    "    callbacks=callbacks\n",
    ")\n"
   ]
  },
  {
   "cell_type": "code",
   "execution_count": 19,
   "id": "29c20443-818e-4c57-bf6b-1b99a2a2ae6c",
   "metadata": {},
   "outputs": [
    {
     "name": "stdout",
     "output_type": "stream",
     "text": [
      "\u001b[1m20/20\u001b[0m \u001b[32m━━━━━━━━━━━━━━━━━━━━\u001b[0m\u001b[37m\u001b[0m \u001b[1m16s\u001b[0m 791ms/step - accuracy: 0.6135 - loss: 0.7938\n",
      "Test Accuracy: 0.6250\n"
     ]
    }
   ],
   "source": [
    "# Step 7: Evaluate the model\n",
    "# Evaluate on test set\n",
    "test_loss, test_accuracy = model.evaluate(x_test, y_test_cat)\n",
    "print(f\"Test Accuracy: {test_accuracy:.4f}\")\n"
   ]
  },
  {
   "cell_type": "code",
   "execution_count": 20,
   "id": "d852866e-1063-4c80-8f11-1ee0fbc99e79",
   "metadata": {},
   "outputs": [
    {
     "name": "stdout",
     "output_type": "stream",
     "text": [
      "\u001b[1m20/20\u001b[0m \u001b[32m━━━━━━━━━━━━━━━━━━━━\u001b[0m\u001b[37m\u001b[0m \u001b[1m18s\u001b[0m 844ms/step\n"
     ]
    }
   ],
   "source": [
    "#1. Evaluation Using 3 Metrics\n",
    "#We’ll use:\n",
    "#Accuracy: Overall correctness.\n",
    "#AUC (Area Under ROC Curve): Good for imbalanced classification.\n",
    "#F1-Score : Balances precision and recall (important for medical diagnosis).\n",
    "from sklearn.metrics import classification_report, roc_auc_score, confusion_matrix\n",
    "# Predict classes\n",
    "y_pred_probs = model.predict(x_test)\n",
    "y_pred_classes = np.argmax(y_pred_probs, axis=1)\n",
    "y_true = np.argmax(y_test_cat, axis=1)\n",
    "\n"
   ]
  },
  {
   "cell_type": "code",
   "execution_count": 21,
   "id": "538c9fbd-813a-48b4-9bd8-242c09021add",
   "metadata": {},
   "outputs": [
    {
     "name": "stdout",
     "output_type": "stream",
     "text": [
      "              precision    recall  f1-score   support\n",
      "\n",
      "      Normal       0.00      0.00      0.00       234\n",
      "   Pneumonia       0.62      1.00      0.77       390\n",
      "\n",
      "    accuracy                           0.62       624\n",
      "   macro avg       0.31      0.50      0.38       624\n",
      "weighted avg       0.39      0.62      0.48       624\n",
      "\n"
     ]
    },
    {
     "name": "stderr",
     "output_type": "stream",
     "text": [
      "C:\\Users\\Rahul Sahu\\anaconda3\\Lib\\site-packages\\sklearn\\metrics\\_classification.py:1531: UndefinedMetricWarning: Precision is ill-defined and being set to 0.0 in labels with no predicted samples. Use `zero_division` parameter to control this behavior.\n",
      "  _warn_prf(average, modifier, f\"{metric.capitalize()} is\", len(result))\n",
      "C:\\Users\\Rahul Sahu\\anaconda3\\Lib\\site-packages\\sklearn\\metrics\\_classification.py:1531: UndefinedMetricWarning: Precision is ill-defined and being set to 0.0 in labels with no predicted samples. Use `zero_division` parameter to control this behavior.\n",
      "  _warn_prf(average, modifier, f\"{metric.capitalize()} is\", len(result))\n",
      "C:\\Users\\Rahul Sahu\\anaconda3\\Lib\\site-packages\\sklearn\\metrics\\_classification.py:1531: UndefinedMetricWarning: Precision is ill-defined and being set to 0.0 in labels with no predicted samples. Use `zero_division` parameter to control this behavior.\n",
      "  _warn_prf(average, modifier, f\"{metric.capitalize()} is\", len(result))\n"
     ]
    }
   ],
   "source": [
    "# Accuracy, Precision, Recall, F1\n",
    "print(classification_report(y_true, y_pred_classes, target_names=[\"Normal\", \"Pneumonia\"]))"
   ]
  },
  {
   "cell_type": "code",
   "execution_count": 22,
   "id": "26e00f12-9f94-406f-9288-8a4acabf08bc",
   "metadata": {},
   "outputs": [
    {
     "name": "stdout",
     "output_type": "stream",
     "text": [
      "AUC Score: 0.5819\n"
     ]
    }
   ],
   "source": [
    "# AUC Score\n",
    "auc = roc_auc_score(y_test_cat, y_pred_probs)\n",
    "print(f\"AUC Score: {auc:.4f}\")\n"
   ]
  },
  {
   "cell_type": "code",
   "execution_count": 31,
   "id": "cd15a2e4-0ba6-44f3-8a0e-88a76d2fcc01",
   "metadata": {},
   "outputs": [
    {
     "data": {
      "image/png": "[encoded data removed]",
      "text/plain": [
       "<Figure size 640x480 with 1 Axes>"
      ]
     },
     "metadata": {},
     "output_type": "display_data"
    }
   ],
   "source": [
    "#2. Handle Class Imbalance\n",
    "#First, analyze the imbalance:\n",
    "class_counts = np.unique(y_train, return_counts=True)\n",
    "sns.barplot(x=class_counts[0], y=class_counts[1])\n",
    "plt.title(\"Class Distribution in Training Set\")\n",
    "plt.xlabel(\"Class\")\n",
    "plt.ylabel(\"Count\")\n",
    "plt.xticks([0, 1], [\"Normal\", \"Pneumonia\"])\n",
    "plt.show()\n"
   ]
  },
  {
   "cell_type": "code",
   "execution_count": 33,
   "id": "ed441d5d-af4c-4469-a437-f7fc94f75767",
   "metadata": {},
   "outputs": [],
   "source": [
    "#Two ways to mitigate imbalance:\n",
    "#Option A: Use Class Weights\n",
    "#convert 2d array to 1D array\n",
    "y_train_flat = y_train.ravel()\n",
    "from sklearn.utils import class_weight\n",
    "class_weights = class_weight.compute_class_weight(class_weight='balanced', classes=np.unique(y_train_flat), y=y_train_flat)\n",
    "class_weights_dict = dict(enumerate(class_weights))\n"
   ]
  },
  {
   "cell_type": "code",
   "execution_count": 36,
   "id": "27bd925b-f685-4c28-b547-b371566a2ea9",
   "metadata": {},
   "outputs": [
    {
     "name": "stdout",
     "output_type": "stream",
     "text": [
      "Epoch 1/5\n",
      "\u001b[1m122/122\u001b[0m \u001b[32m━━━━━━━━━━━━━━━━━━━━\u001b[0m\u001b[37m\u001b[0m \u001b[1m122s\u001b[0m 1s/step - accuracy: 0.4795 - loss: 0.7214 - val_accuracy: 0.2576 - val_loss: 0.7450\n",
      "Epoch 2/5\n",
      "\u001b[1m122/122\u001b[0m \u001b[32m━━━━━━━━━━━━━━━━━━━━\u001b[0m\u001b[37m\u001b[0m \u001b[1m126s\u001b[0m 1s/step - accuracy: 0.5172 - loss: 0.7394 - val_accuracy: 0.2576 - val_loss: 0.7364\n",
      "Epoch 3/5\n",
      "\u001b[1m122/122\u001b[0m \u001b[32m━━━━━━━━━━━━━━━━━━━━\u001b[0m\u001b[37m\u001b[0m \u001b[1m119s\u001b[0m 973ms/step - accuracy: 0.5594 - loss: 0.6904 - val_accuracy: 0.2576 - val_loss: 0.7461\n",
      "Epoch 4/5\n",
      "\u001b[1m122/122\u001b[0m \u001b[32m━━━━━━━━━━━━━━━━━━━━\u001b[0m\u001b[37m\u001b[0m \u001b[1m125s\u001b[0m 1s/step - accuracy: 0.4674 - loss: 0.7446 - val_accuracy: 0.2576 - val_loss: 0.7275\n",
      "Epoch 5/5\n",
      "\u001b[1m122/122\u001b[0m \u001b[32m━━━━━━━━━━━━━━━━━━━━\u001b[0m\u001b[37m\u001b[0m \u001b[1m128s\u001b[0m 1s/step - accuracy: 0.4513 - loss: 0.7395 - val_accuracy: 0.2576 - val_loss: 0.7118\n"
     ]
    },
    {
     "data": {
      "text/plain": [
       "<keras.src.callbacks.history.History at 0x1a4a3c29310>"
      ]
     },
     "execution_count": 36,
     "metadata": {},
     "output_type": "execute_result"
    }
   ],
   "source": [
    "# Pass to fit()\n",
    "model.fit(\n",
    "    x_train, y_train_cat,\n",
    "    validation_data=(x_val, y_val_cat),\n",
    "    epochs=5,\n",
    "    batch_size=32,\n",
    "    callbacks=callbacks,\n",
    "    class_weight=class_weights_dict\n",
    ")"
   ]
  },
  {
   "cell_type": "code",
   "execution_count": 37,
   "id": "dd42492a-d919-43d4-8c60-7d7d1fc02ef9",
   "metadata": {},
   "outputs": [],
   "source": [
    "#3. Prevent Overfitting\n",
    "#We already added:\n",
    "#Dropout layers in the model.\n",
    "#EarlyStopping and ModelCheckpoint.\n",
    "#Add Data Augmentation:\n",
    "\n",
    "from tensorflow.keras.preprocessing.image import ImageDataGenerator\n",
    "\n",
    "datagen = ImageDataGenerator(\n",
    "    rotation_range=10,\n",
    "    zoom_range=0.1,\n",
    "    width_shift_range=0.1,\n",
    "    height_shift_range=0.1,\n",
    "    horizontal_flip=True\n",
    ")"
   ]
  },
  {
   "cell_type": "code",
   "execution_count": 38,
   "id": "9f520a22-2ac4-4b3f-ad3b-60519c3fb4ed",
   "metadata": {},
   "outputs": [
    {
     "name": "stdout",
     "output_type": "stream",
     "text": [
      "Epoch 1/5\n"
     ]
    },
    {
     "name": "stderr",
     "output_type": "stream",
     "text": [
      "C:\\Users\\Rahul Sahu\\AppData\\Roaming\\Python\\Python311\\site-packages\\keras\\src\\trainers\\data_adapters\\py_dataset_adapter.py:121: UserWarning: Your `PyDataset` class should call `super().__init__(**kwargs)` in its constructor. `**kwargs` can include `workers`, `use_multiprocessing`, `max_queue_size`. Do not pass these arguments to `fit()`, as they will be ignored.\n",
      "  self._warn_if_super_not_called()\n"
     ]
    },
    {
     "name": "stdout",
     "output_type": "stream",
     "text": [
      "\u001b[1m122/122\u001b[0m \u001b[32m━━━━━━━━━━━━━━━━━━━━\u001b[0m\u001b[37m\u001b[0m \u001b[1m1014s\u001b[0m 8s/step - accuracy: 0.5138 - loss: 0.7328 - val_accuracy: 0.2576 - val_loss: 0.7445\n",
      "Epoch 2/5\n",
      "\u001b[1m122/122\u001b[0m \u001b[32m━━━━━━━━━━━━━━━━━━━━\u001b[0m\u001b[37m\u001b[0m \u001b[1m463s\u001b[0m 4s/step - accuracy: 0.5284 - loss: 0.7245 - val_accuracy: 0.2576 - val_loss: 0.7629\n",
      "Epoch 3/5\n",
      "\u001b[1m122/122\u001b[0m \u001b[32m━━━━━━━━━━━━━━━━━━━━\u001b[0m\u001b[37m\u001b[0m \u001b[1m445s\u001b[0m 4s/step - accuracy: 0.5327 - loss: 0.7089 - val_accuracy: 0.2576 - val_loss: 0.7525\n",
      "Epoch 4/5\n",
      "\u001b[1m122/122\u001b[0m \u001b[32m━━━━━━━━━━━━━━━━━━━━\u001b[0m\u001b[37m\u001b[0m \u001b[1m446s\u001b[0m 4s/step - accuracy: 0.5499 - loss: 0.6798 - val_accuracy: 0.2576 - val_loss: 0.7606\n",
      "Epoch 5/5\n",
      "\u001b[1m122/122\u001b[0m \u001b[32m━━━━━━━━━━━━━━━━━━━━\u001b[0m\u001b[37m\u001b[0m \u001b[1m1195s\u001b[0m 10s/step - accuracy: 0.3980 - loss: 0.7453 - val_accuracy: 0.2576 - val_loss: 0.7054\n"
     ]
    },
    {
     "data": {
      "text/plain": [
       "<keras.src.callbacks.history.History at 0x1a491bb87d0>"
      ]
     },
     "execution_count": 38,
     "metadata": {},
     "output_type": "execute_result"
    }
   ],
   "source": [
    "# Re-train using the generator and class_weight\n",
    "train_generator = datagen.flow(x_train, y_train_cat, batch_size=32)\n",
    "\n",
    "model.fit(\n",
    "    train_generator,\n",
    "    validation_data=(x_val, y_val_cat),\n",
    "    epochs=5,\n",
    "    callbacks=callbacks,\n",
    "    class_weight=class_weights_dict\n",
    ")"
   ]
  },
  {
   "cell_type": "code",
   "execution_count": 39,
   "id": "9c3dcad2-8665-457c-87c0-e1fd5bd83c7e",
   "metadata": {},
   "outputs": [
    {
     "name": "stdout",
     "output_type": "stream",
     "text": [
      "\u001b[1m20/20\u001b[0m \u001b[32m━━━━━━━━━━━━━━━━━━━━\u001b[0m\u001b[37m\u001b[0m \u001b[1m63s\u001b[0m 3s/step - accuracy: 0.3865 - loss: 0.7188\n",
      "Test Accuracy: 0.3750\n"
     ]
    }
   ],
   "source": [
    "# Step 7: Evaluate the model\n",
    "# Evaluate on test set\n",
    "test_loss, test_accuracy = model.evaluate(x_test, y_test_cat)\n",
    "print(f\"Test Accuracy: {test_accuracy:.4f}\")"
   ]
  },
  {
   "cell_type": "code",
   "execution_count": 41,
   "id": "8c046288-5e7d-418e-a72b-efc53cd97acd",
   "metadata": {},
   "outputs": [
    {
     "name": "stdout",
     "output_type": "stream",
     "text": [
      "              precision    recall  f1-score   support\n",
      "\n",
      "      Normal       0.38      1.00      0.55       234\n",
      "   Pneumonia       0.00      0.00      0.00       390\n",
      "\n",
      "    accuracy                           0.38       624\n",
      "   macro avg       0.19      0.50      0.27       624\n",
      "weighted avg       0.14      0.38      0.20       624\n",
      "\n"
     ]
    },
    {
     "name": "stderr",
     "output_type": "stream",
     "text": [
      "C:\\Users\\Rahul Sahu\\anaconda3\\Lib\\site-packages\\sklearn\\metrics\\_classification.py:1531: UndefinedMetricWarning: Precision is ill-defined and being set to 0.0 in labels with no predicted samples. Use `zero_division` parameter to control this behavior.\n",
      "  _warn_prf(average, modifier, f\"{metric.capitalize()} is\", len(result))\n",
      "C:\\Users\\Rahul Sahu\\anaconda3\\Lib\\site-packages\\sklearn\\metrics\\_classification.py:1531: UndefinedMetricWarning: Precision is ill-defined and being set to 0.0 in labels with no predicted samples. Use `zero_division` parameter to control this behavior.\n",
      "  _warn_prf(average, modifier, f\"{metric.capitalize()} is\", len(result))\n",
      "C:\\Users\\Rahul Sahu\\anaconda3\\Lib\\site-packages\\sklearn\\metrics\\_classification.py:1531: UndefinedMetricWarning: Precision is ill-defined and being set to 0.0 in labels with no predicted samples. Use `zero_division` parameter to control this behavior.\n",
      "  _warn_prf(average, modifier, f\"{metric.capitalize()} is\", len(result))\n"
     ]
    }
   ],
   "source": [
    "# Accuracy, Precision, Recall, F1\n",
    "print(classification_report(y_true, y_pred_classes, target_names=[\"Normal\", \"Pneumonia\"]))"
   ]
  },
  {
   "cell_type": "code",
   "execution_count": 40,
   "id": "cee11042-1467-4394-a15e-1a6c0d9aa6bf",
   "metadata": {},
   "outputs": [
    {
     "name": "stdout",
     "output_type": "stream",
     "text": [
      "\u001b[1m20/20\u001b[0m \u001b[32m━━━━━━━━━━━━━━━━━━━━\u001b[0m\u001b[37m\u001b[0m \u001b[1m60s\u001b[0m 3s/step\n"
     ]
    }
   ],
   "source": [
    "#1. Evaluation Using 3 Metrics\n",
    "#We’ll use:\n",
    "#Accuracy: Overall correctness.\n",
    "#AUC (Area Under ROC Curve): Good for imbalanced classification.\n",
    "#F1-Score : Balances precision and recall (important for medical diagnosis).\n",
    "from sklearn.metrics import classification_report, roc_auc_score, confusion_matrix\n",
    "# Predict classes\n",
    "y_pred_probs = model.predict(x_test)\n",
    "y_pred_classes = np.argmax(y_pred_probs, axis=1)\n",
    "y_true = np.argmax(y_test_cat, axis=1)"
   ]
  },
  {
   "cell_type": "code",
   "execution_count": 43,
   "id": "7376dc4d-dc16-4d6a-b257-8d961ea1d865",
   "metadata": {},
   "outputs": [
    {
     "name": "stdout",
     "output_type": "stream",
     "text": [
      "[[234   0]\n",
      " [390   0]]\n"
     ]
    }
   ],
   "source": [
    "from sklearn.metrics import confusion_matrix\n",
    "\n",
    "cm = confusion_matrix(y_test, y_pred_classes)\n",
    "print(cm)"
   ]
  },
  {
   "cell_type": "code",
   "execution_count": 44,
   "id": "a286dca7-5bfb-43b2-91b5-a7923d1b77c9",
   "metadata": {},
   "outputs": [
    {
     "data": {
      "image/png": "[encoded data removed]",
      "text/plain": [
       "<Figure size 640x480 with 2 Axes>"
      ]
     },
     "metadata": {},
     "output_type": "display_data"
    }
   ],
   "source": [
    "from sklearn.metrics import ConfusionMatrixDisplay\n",
    "import matplotlib.pyplot as plt\n",
    "\n",
    "disp = ConfusionMatrixDisplay(confusion_matrix=cm, display_labels=[0, 1])\n",
    "disp.plot(cmap=plt.cm.Blues)\n",
    "plt.title(\"Confusion Matrix\")\n",
    "plt.show()\n"
   ]
  },
  {
   "cell_type": "code",
   "execution_count": 46,
   "id": "b9e999c7-5b99-42b9-b397-572e17df35cc",
   "metadata": {},
   "outputs": [
    {
     "name": "stdout",
     "output_type": "stream",
     "text": [
      "Unique classes in y_train: (array([0, 1], dtype=uint8), array([234, 390], dtype=int64))\n",
      "Unique classes in y_train: (array([0], dtype=int64), array([624], dtype=int64))\n"
     ]
    }
   ],
   "source": [
    "print(\"Unique classes in y_train:\", np.unique(y_test, return_counts=True))\n",
    "print(\"Unique classes in y_train:\", np.unique(y_pred_classes, return_counts=True))"
   ]
  },
  {
   "cell_type": "code",
   "execution_count": 42,
   "id": "1dce953c-7637-4fe6-88fe-46b333b11b5d",
   "metadata": {},
   "outputs": [
    {
     "name": "stdout",
     "output_type": "stream",
     "text": [
      "AUC Score: 0.8710\n"
     ]
    }
   ],
   "source": [
    "# AUC Score\n",
    "auc = roc_auc_score(y_test_cat, y_pred_probs)\n",
    "print(f\"AUC Score: {auc:.4f}\")"
   ]
  },
  {
   "cell_type": "code",
   "execution_count": null,
   "id": "c4d9781b-c952-4ceb-b21b-c0bdf471f8f5",
   "metadata": {},
   "outputs": [],
   "source": []
  }
 ],
 "metadata": {
  "kernelspec": {
   "display_name": "Python 3 (ipykernel)",
   "language": "python",
   "name": "python3"
  },
  "language_info": {
   "codemirror_mode": {
    "name": "ipython",
    "version": 3
   },
   "file_extension": ".py",
   "mimetype": "text/x-python",
   "name": "python",
   "nbconvert_exporter": "python",
   "pygments_lexer": "ipython3",
   "version": "3.11.7"
  }
 },
 "nbformat": 4,
 "nbformat_minor": 5
}
